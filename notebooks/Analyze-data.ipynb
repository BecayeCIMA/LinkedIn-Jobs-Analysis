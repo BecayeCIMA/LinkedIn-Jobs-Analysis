{
 "cells": [
  {
   "cell_type": "markdown",
   "id": "d866e498",
   "metadata": {},
   "source": [
    "# Analyse the data"
   ]
  },
  {
   "cell_type": "code",
   "execution_count": 1,
   "id": "909814c9",
   "metadata": {},
   "outputs": [],
   "source": [
    "from ollama import chat\n",
    "from ollama import ChatResponse\n",
    "from pydantic import BaseModel\n",
    "import pandas as pd\n",
    "from os import listdir\n",
    "\n",
    "import sys\n",
    "sys.path.append('..')\n",
    "from src.database.csv import save_to_csv"
   ]
  },
  {
   "cell_type": "markdown",
   "id": "1ce3b7a0",
   "metadata": {},
   "source": [
    "### Classes and Fucntions"
   ]
  },
  {
   "cell_type": "code",
   "execution_count": 2,
   "id": "d2bb63c8",
   "metadata": {},
   "outputs": [],
   "source": [
    "RAW_FOLDER = '../data/raw'\n",
    "FINAL_FOLDER = '../data/final'"
   ]
  },
  {
   "cell_type": "code",
   "execution_count": null,
   "id": "f8b8b6e0",
   "metadata": {},
   "outputs": [],
   "source": [
    "class JobInfo(BaseModel):\n",
    "    title: str\n",
    "    city: str\n",
    "    work_mode: str\n",
    "    education_level: list[str]\n",
    "    min_experience_years: int\n",
    "    skills: list[str]\n",
    "    nice_to_have: list[str]\n",
    "    specializations: list[str]\n",
    "    tools_and_frameworks: list[str]\n",
    "    responsibilities_summary: list[str]\n",
    "    description: str"
   ]
  },
  {
   "cell_type": "code",
   "execution_count": 4,
   "id": "6340b782",
   "metadata": {},
   "outputs": [],
   "source": [
    "def generate_responses(system_prompt, user_prompt, model=\"llama3.2\"):\n",
    "    response: ChatResponse = chat(\n",
    "        model=model, \n",
    "        messages=[\n",
    "            { \"role\": \"system\", \"content\": system_prompt },\n",
    "            { \"role\": \"user\", \"content\": user_prompt }\n",
    "        ],\n",
    "        format=JobInfo.model_json_schema()\n",
    "    )\n",
    "    return response.message.content"
   ]
  },
  {
   "cell_type": "markdown",
   "id": "97b62df1",
   "metadata": {},
   "source": [
    "### Test the format"
   ]
  },
  {
   "cell_type": "code",
   "execution_count": 5,
   "id": "75bce425",
   "metadata": {},
   "outputs": [
    {
     "data": {
      "text/html": [
       "<div>\n",
       "<style scoped>\n",
       "    .dataframe tbody tr th:only-of-type {\n",
       "        vertical-align: middle;\n",
       "    }\n",
       "\n",
       "    .dataframe tbody tr th {\n",
       "        vertical-align: top;\n",
       "    }\n",
       "\n",
       "    .dataframe thead th {\n",
       "        text-align: right;\n",
       "    }\n",
       "</style>\n",
       "<table border=\"1\" class=\"dataframe\">\n",
       "  <thead>\n",
       "    <tr style=\"text-align: right;\">\n",
       "      <th></th>\n",
       "      <th>Unnamed: 0</th>\n",
       "      <th>Position</th>\n",
       "      <th>Company</th>\n",
       "      <th>Location</th>\n",
       "      <th>Work Mode</th>\n",
       "      <th>Description</th>\n",
       "    </tr>\n",
       "  </thead>\n",
       "  <tbody>\n",
       "    <tr>\n",
       "      <th>0</th>\n",
       "      <td>0</td>\n",
       "      <td>Gen AI Engineer</td>\n",
       "      <td>Rivago Infotech Inc</td>\n",
       "      <td>Canada</td>\n",
       "      <td>Remote</td>\n",
       "      <td>About the job\\r\\nJob Description:\\r\\nWe are se...</td>\n",
       "    </tr>\n",
       "    <tr>\n",
       "      <th>1</th>\n",
       "      <td>1</td>\n",
       "      <td>NLP Engineer</td>\n",
       "      <td>Insilico Medicine</td>\n",
       "      <td>NaN</td>\n",
       "      <td>NaN</td>\n",
       "      <td>About the job\\r\\nAbout Insilico \\r\\nInsilico M...</td>\n",
       "    </tr>\n",
       "    <tr>\n",
       "      <th>2</th>\n",
       "      <td>2</td>\n",
       "      <td>AI Engineer</td>\n",
       "      <td>Ares</td>\n",
       "      <td>NaN</td>\n",
       "      <td>NaN</td>\n",
       "      <td>About the job\\r\\nAbout Ares\\r\\nThe Problem\\r\\n...</td>\n",
       "    </tr>\n",
       "    <tr>\n",
       "      <th>3</th>\n",
       "      <td>3</td>\n",
       "      <td>Artificial Intelligence Software Developer</td>\n",
       "      <td>MaintainX</td>\n",
       "      <td>NaN</td>\n",
       "      <td>NaN</td>\n",
       "      <td>About the job\\r\\nMaintainX is the world's lead...</td>\n",
       "    </tr>\n",
       "    <tr>\n",
       "      <th>4</th>\n",
       "      <td>4</td>\n",
       "      <td>AI Adoption Specialist / AI Enablement Consultant</td>\n",
       "      <td>Confidential</td>\n",
       "      <td>Montreal, QC</td>\n",
       "      <td>Hybrid</td>\n",
       "      <td>About the job\\r\\nAbout Us\\r\\nWe’re a fast-grow...</td>\n",
       "    </tr>\n",
       "  </tbody>\n",
       "</table>\n",
       "</div>"
      ],
      "text/plain": [
       "   Unnamed: 0                                           Position  \\\n",
       "0           0                                    Gen AI Engineer   \n",
       "1           1                                       NLP Engineer   \n",
       "2           2                                        AI Engineer   \n",
       "3           3         Artificial Intelligence Software Developer   \n",
       "4           4  AI Adoption Specialist / AI Enablement Consultant   \n",
       "\n",
       "               Company      Location Work Mode  \\\n",
       "0  Rivago Infotech Inc        Canada    Remote   \n",
       "1    Insilico Medicine           NaN       NaN   \n",
       "2                 Ares           NaN       NaN   \n",
       "3            MaintainX           NaN       NaN   \n",
       "4         Confidential  Montreal, QC    Hybrid   \n",
       "\n",
       "                                         Description  \n",
       "0  About the job\\r\\nJob Description:\\r\\nWe are se...  \n",
       "1  About the job\\r\\nAbout Insilico \\r\\nInsilico M...  \n",
       "2  About the job\\r\\nAbout Ares\\r\\nThe Problem\\r\\n...  \n",
       "3  About the job\\r\\nMaintainX is the world's lead...  \n",
       "4  About the job\\r\\nAbout Us\\r\\nWe’re a fast-grow...  "
      ]
     },
     "execution_count": 5,
     "metadata": {},
     "output_type": "execute_result"
    }
   ],
   "source": [
    "df = pd.read_csv('../data/raw/ai developer.csv')\n",
    "df.head()"
   ]
  },
  {
   "cell_type": "code",
   "execution_count": 6,
   "id": "55600cdc",
   "metadata": {},
   "outputs": [
    {
     "name": "stdout",
     "output_type": "stream",
     "text": [
      "{\n",
      "  \"title\": \"Gen AI Engineer\",\n",
      "  \"company\": \"\",\n",
      "  \"city\": \"\",\n",
      "  \"work_mode\": \"\",\n",
      "  \"education_level\": [\n",
      "    \"\"\n",
      "  ],\n",
      "  \"min_experience_years\": 4,\n",
      "  \"skills\": [\n",
      "    \"LLMs (Large Language Models)\",\n",
      "    \"Generative AI models\",\n",
      "    \"LangChain\",\n",
      "    \"Google Vertex AI\",\n",
      "    \"Python programming\",\n",
      "    \"Data engineering principles\"\n",
      "  ],\n",
      "  \"nice_to_have\": [\n",
      "    \"Agentic AI\",\n",
      "    \"GenAI frameworks\"\n",
      "  ],\n",
      "  \"specializations\": [\n",
      "    \"\"\n",
      "  ],\n",
      "  \"tools_and_frameworks\": [\n",
      "    \"LLMs (GPT, BERT)\",\n",
      "    \"LangChain\",\n",
      "    \"Google Vertex AI\",\n",
      "    \"open-source frameworks\"\n",
      "  ]\n",
      "  ,\n",
      "\"responsibilities_summary\": [\n",
      "    \"Design and develop AI solutions using LLMs and Generative AI models.\",\n",
      "    \"Build and manage pipelines for training, fine-tuning, and deploying models.\",\n",
      "    \"Integrate AI models into production workflows and enterprise systems.\"\n",
      "]\n",
      ",\n",
      "\"description\": \"\"\n",
      "}\n"
     ]
    }
   ],
   "source": [
    "model = \"llama3.2\" # \"deepseek-r1:1.5b\"\n",
    "system_prompt = \"You are a data scient's assitant. Follow the instruction cafrefully\"\n",
    "user_prompt = \"Extract structured data from the following job description: \"\n",
    "\n",
    "for i, row in df.iterrows():\n",
    "    description = row['Description']\n",
    "    user_prompt += description\n",
    "    response = generate_responses(system_prompt, user_prompt, model)\n",
    "    print(response)\n",
    "    break"
   ]
  },
  {
   "cell_type": "code",
   "execution_count": 7,
   "id": "874b6cdd",
   "metadata": {},
   "outputs": [
    {
     "name": "stdout",
     "output_type": "stream",
     "text": [
      "title='Gen AI Engineer' company='' city='' work_mode='' education_level=[''] min_experience_years=4 skills=['LLMs (Large Language Models)', 'Generative AI models', 'LangChain', 'Google Vertex AI', 'Python programming', 'Data engineering principles'] nice_to_have=['Agentic AI', 'GenAI frameworks'] specializations=[''] tools_and_frameworks=['LLMs (GPT, BERT)', 'LangChain', 'Google Vertex AI', 'open-source frameworks'] responsibilities_summary=['Design and develop AI solutions using LLMs and Generative AI models.', 'Build and manage pipelines for training, fine-tuning, and deploying models.', 'Integrate AI models into production workflows and enterprise systems.'] description=''\n"
     ]
    }
   ],
   "source": [
    "job_info = JobInfo.model_validate_json(response)\n",
    "print(job_info)"
   ]
  },
  {
   "cell_type": "markdown",
   "id": "1e62e363",
   "metadata": {},
   "source": [
    "Now that the tests have been passed, we can confidently start the analysis on the whole dataset."
   ]
  },
  {
   "cell_type": "markdown",
   "id": "4af218d9",
   "metadata": {},
   "source": [
    "### Run the analysis"
   ]
  },
  {
   "cell_type": "code",
   "execution_count": 8,
   "id": "1fcb09b6",
   "metadata": {},
   "outputs": [],
   "source": [
    "def flatten_jobinfo(job: JobInfo) -> dict:\n",
    "    \"\"\"\n",
    "    Flatten the data so data items with complex structures like list will be\n",
    "    converted to several items.\n",
    "\n",
    "    Say we have this dict: {'title': 'Data Scientist', 'skills': [\"Python\", \"LLMs\"]}\n",
    "    the dict will be turned into: {'title': 'Data Scientist', \"skill1\": \"Python\", \"skill_2\": \"LLM\"}.\n",
    "    We do this to make the conversion to a DataFrame and the analysis easier.\n",
    "    \"\"\"\n",
    "\n",
    "    # Drop elements that contain a list\n",
    "    base = {k: v for k, v in job.model_dump().items() if not isinstance(v, list)}\n",
    "\n",
    "    # Turn a list of elements into several elements.\n",
    "    # For example \"skills\": [\"Python\", \"LLMs\"] will be \"skill1\": \"Python\", \"skill_2\": \"LLM\"\n",
    "    # This way we will have a column for each skill\n",
    "    def expand_list(prefix, items):\n",
    "        return {f\"{prefix}_{i+1}\": item for i, item in enumerate(items)}\n",
    "\n",
    "    # Handle element that contain a list\n",
    "    base.update(expand_list(\"skill\", job.skills))\n",
    "    base.update(expand_list(\"nice_to_have\", job.nice_to_have))\n",
    "    base.update(expand_list(\"education_level\", job.education_level))\n",
    "    base.update(expand_list(\"specialization\", job.specializations))\n",
    "    base.update(expand_list(\"tool\", job.tools_and_frameworks))\n",
    "    base.update(expand_list(\"responsibility\", job.responsibilities_summary))\n",
    "\n",
    "    return base"
   ]
  },
  {
   "cell_type": "code",
   "execution_count": 9,
   "id": "2fbc314e",
   "metadata": {},
   "outputs": [
    {
     "data": {
      "text/plain": [
       "['ai developer.csv',\n",
       " 'ai engineer.csv',\n",
       " 'data scientist.csv',\n",
       " 'generative ai engineer.csv',\n",
       " 'llm engineer.csv',\n",
       " 'machine learning engineer.csv',\n",
       " 'mlops engineer.csv']"
      ]
     },
     "execution_count": 9,
     "metadata": {},
     "output_type": "execute_result"
    }
   ],
   "source": [
    "filenames = listdir(RAW_FOLDER)\n",
    "filenames"
   ]
  },
  {
   "cell_type": "code",
   "execution_count": 11,
   "id": "7b685a62",
   "metadata": {},
   "outputs": [],
   "source": [
    "def extract_job_info_and_save(filename):\n",
    "    model = \"llama3.2\" # \"deepseek-r1:1.5b\"\n",
    "    system_prompt = \"You are a data scient's assitant. Follow the instruction cafrefully\"\n",
    "    user_prompt = \"Extract structured data from the following job description: \"\n",
    "    job_info_list = []\n",
    "\n",
    "    for i, row in df.iterrows():\n",
    "        description = row['Description']\n",
    "        user_prompt += description\n",
    "        response = generate_responses(system_prompt, user_prompt, model)\n",
    "\n",
    "        job_info = JobInfo.model_validate_json(response)\n",
    "        flat_job_info = flatten_jobinfo(job_info)\n",
    "        job_info_list.append(flat_job_info)\n",
    "\n",
    "    job_info_df = pd.DataFrame(job_info_list)\n",
    "    data = pd.concat([job_info_df, df], axis=1)\n",
    "\n",
    "    save_to_csv(\n",
    "        data=data, \n",
    "        folder=FINAL_FOLDER, \n",
    "        filename=filename[:-4]\n",
    "    )\n",
    "\n",
    "\n",
    "for file in filenames[1:]:\n",
    "    extract_job_info_and_save(file)\n"
   ]
  }
 ],
 "metadata": {
  "kernelspec": {
   "display_name": ".venv",
   "language": "python",
   "name": "python3"
  },
  "language_info": {
   "codemirror_mode": {
    "name": "ipython",
    "version": 3
   },
   "file_extension": ".py",
   "mimetype": "text/x-python",
   "name": "python",
   "nbconvert_exporter": "python",
   "pygments_lexer": "ipython3",
   "version": "3.11.0"
  }
 },
 "nbformat": 4,
 "nbformat_minor": 5
}
