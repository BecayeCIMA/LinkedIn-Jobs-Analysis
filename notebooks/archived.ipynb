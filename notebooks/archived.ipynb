{
 "cells": [
  {
   "cell_type": "code",
   "execution_count": 1,
   "metadata": {},
   "outputs": [],
   "source": [
    "# %pip install pipreqs"
   ]
  },
  {
   "cell_type": "markdown",
   "metadata": {},
   "source": [
    "# Scraping Job info from LinkedIn\n",
    "\n",
    "<a href=\"https://medium.com/nerd-for-tech/linked-in-web-scraper-using-selenium-15189959b3ba\">Tutorial here.</a>\n"
   ]
  },
  {
   "cell_type": "code",
   "execution_count": 1,
   "metadata": {
    "collapsed": false,
    "jupyter": {
     "outputs_hidden": false
    }
   },
   "outputs": [],
   "source": [
    "import os\n",
    "import time\n",
    "import logging\n",
    "\n",
    "from selenium import webdriver\n",
    "from selenium.webdriver.common.keys import Keys\n",
    "from selenium.webdriver.common.by import By\n",
    "from selenium.webdriver.support.ui import WebDriverWait\n",
    "from selenium.webdriver.support import expected_conditions as EC\n",
    "from selenium.common.exceptions import TimeoutException, NoSuchElementException\n",
    "from dotenv import load_dotenv"
   ]
  },
  {
   "cell_type": "code",
   "execution_count": 2,
   "metadata": {},
   "outputs": [],
   "source": [
    "from selenium import webdriver\n",
    "browser = webdriver.Chrome()"
   ]
  },
  {
   "cell_type": "markdown",
   "metadata": {},
   "source": [
    "## Authentication"
   ]
  },
  {
   "cell_type": "code",
   "execution_count": 3,
   "metadata": {
    "collapsed": false,
    "jupyter": {
     "outputs_hidden": false
    }
   },
   "outputs": [
    {
     "name": "stdout",
     "output_type": "stream",
     "text": [
      "baldebecaye10@gmail.com\n"
     ]
    }
   ],
   "source": [
    "delay = 5\n",
    "\n",
    "# load the credentials\n",
    "load_dotenv('.env')\n",
    "\n",
    "# set credentials:\n",
    "email = os.getenv('EMAIL')\n",
    "password = os.getenv('PASSWORD')\n",
    "print(email)"
   ]
  },
  {
   "cell_type": "code",
   "execution_count": 4,
   "metadata": {
    "collapsed": false,
    "jupyter": {
     "outputs_hidden": false
    }
   },
   "outputs": [],
   "source": [
    "# Go to linkedin and login\n",
    "browser.get('https://www.linkedin.com/login')\n",
    "\n",
    "# TODO: Use event listeners instead\n",
    "# wait for the browser to load elements\n",
    "time.sleep(delay)\n",
    "\n",
    "browser.find_element(By.ID, \"username\").send_keys(email)\n",
    "browser.find_element(By.ID, \"password\").send_keys(password, Keys.ENTER)"
   ]
  },
  {
   "cell_type": "markdown",
   "metadata": {},
   "source": [
    "## Search jobs by title and location"
   ]
  },
  {
   "cell_type": "code",
   "execution_count": 5,
   "metadata": {
    "collapsed": false,
    "jupyter": {
     "outputs_hidden": false
    }
   },
   "outputs": [],
   "source": [
    "job_title = \"data scientist\"\n",
    "job_location = \"canada\""
   ]
  },
  {
   "cell_type": "code",
   "execution_count": 6,
   "metadata": {
    "collapsed": false,
    "jupyter": {
     "outputs_hidden": false
    }
   },
   "outputs": [],
   "source": [
    "def wait_till_element_ready(by, selector):\n",
    "    \"\"\"\n",
    "    Wait for a given element to be ready\n",
    "\n",
    "    Parameters\n",
    "    ----------\n",
    "    by : selenium.webdriver.common.by.By\n",
    "        The selector strategy. E.g.: By.ID, By.CLASS_NAME, etc.\n",
    "    selector : str\n",
    "        The CSS selector according to the \"By\" strategy. E.g.: 'class name', 'id', etc.\n",
    "    \"\"\"\n",
    "    colors = {'WARNING': '\\033[93m', 'ERROR': '\\033[91m'}\n",
    "    try:\n",
    "        WebDriverWait(browser, 8).until(EC.presence_of_element_located((by, selector)))\n",
    "        time.sleep(delay)\n",
    "    except TimeoutException:\n",
    "        print(colors['WARNING'] + \"Warning: Element has not been loaded!\")\n",
    "        pass"
   ]
  },
  {
   "cell_type": "code",
   "execution_count": 7,
   "metadata": {
    "collapsed": false,
    "jupyter": {
     "outputs_hidden": false
    }
   },
   "outputs": [],
   "source": [
    "def search_jobs(job_title, job_location):    \n",
    "    browser.get(\"https://www.linkedin.com/jobs/\")\n",
    "    # time.sleep(delay)\n",
    "\n",
    "    # find the two search boxes: title and location\n",
    "    wait_till_element_ready(By.CLASS_NAME, \"jobs-search-box__text-input\")\n",
    "    search_bars = browser.find_elements(By.CLASS_NAME, \"jobs-search-box__text-input\")\n",
    "    print('Found', len(search_bars), 'search_bars')\n",
    "\n",
    "\n",
    "    # enter job title in the search  by keyword bar\n",
    "    search_by_keyword_bar = search_bars[0]\n",
    "    search_by_keyword_bar.clear()           # clear existing text\n",
    "    search_by_keyword_bar.send_keys(job_title)\n",
    "\n",
    "    time.sleep(3)\n",
    "    # enter job location in the search by location bar\n",
    "    search_by_location_bar = search_bars[3]\n",
    "    search_by_location_bar.clear()           # clear existing text\n",
    "    search_by_location_bar.send_keys(job_location, Keys.RETURN)"
   ]
  },
  {
   "cell_type": "code",
   "execution_count": 8,
   "metadata": {},
   "outputs": [
    {
     "name": "stdout",
     "output_type": "stream",
     "text": [
      "Found 5 search_bars\n"
     ]
    }
   ],
   "source": [
    "search_jobs(job_title, job_location)"
   ]
  },
  {
   "cell_type": "markdown",
   "metadata": {},
   "source": [
    "## Get other Pages"
   ]
  },
  {
   "cell_type": "code",
   "execution_count": 9,
   "metadata": {
    "collapsed": false,
    "jupyter": {
     "outputs_hidden": false
    }
   },
   "outputs": [
    {
     "ename": "NoSuchElementException",
     "evalue": "Message: no such element: Unable to locate element: {\"method\":\"css selector\",\"selector\":\".artdeco-pagination__pages\"}\n  (Session info: chrome=131.0.6778.265); For documentation on this error, please visit: https://www.selenium.dev/documentation/webdriver/troubleshooting/errors#no-such-element-exception\nStacktrace:\n\tGetHandleVerifier [0x00007FF6A5D380D5+2992373]\n\t(No symbol) [0x00007FF6A59CBFD0]\n\t(No symbol) [0x00007FF6A586590A]\n\t(No symbol) [0x00007FF6A58B926E]\n\t(No symbol) [0x00007FF6A58B955C]\n\t(No symbol) [0x00007FF6A59027D7]\n\t(No symbol) [0x00007FF6A58DF3AF]\n\t(No symbol) [0x00007FF6A58FF584]\n\t(No symbol) [0x00007FF6A58DF113]\n\t(No symbol) [0x00007FF6A58AA918]\n\t(No symbol) [0x00007FF6A58ABA81]\n\tGetHandleVerifier [0x00007FF6A5D96A2D+3379789]\n\tGetHandleVerifier [0x00007FF6A5DAC32D+3468109]\n\tGetHandleVerifier [0x00007FF6A5DA0043+3418211]\n\tGetHandleVerifier [0x00007FF6A5B2C78B+847787]\n\t(No symbol) [0x00007FF6A59D757F]\n\t(No symbol) [0x00007FF6A59D2FC4]\n\t(No symbol) [0x00007FF6A59D315D]\n\t(No symbol) [0x00007FF6A59C2979]\n\tBaseThreadInitThunk [0x00007FF9B0F7259D+29]\n\tRtlUserThreadStart [0x00007FF9B30EAF38+40]\n",
     "output_type": "error",
     "traceback": [
      "\u001b[1;31m---------------------------------------------------------------------------\u001b[0m",
      "\u001b[1;31mNoSuchElementException\u001b[0m                    Traceback (most recent call last)",
      "Cell \u001b[1;32mIn[9], line 1\u001b[0m\n\u001b[1;32m----> 1\u001b[0m pagination \u001b[38;5;241m=\u001b[39m \u001b[43mbrowser\u001b[49m\u001b[38;5;241;43m.\u001b[39;49m\u001b[43mfind_element\u001b[49m\u001b[43m(\u001b[49m\u001b[43mBy\u001b[49m\u001b[38;5;241;43m.\u001b[39;49m\u001b[43mCLASS_NAME\u001b[49m\u001b[43m,\u001b[49m\u001b[43m \u001b[49m\u001b[38;5;124;43m\"\u001b[39;49m\u001b[38;5;124;43martdeco-pagination__pages\u001b[39;49m\u001b[38;5;124;43m\"\u001b[39;49m\u001b[43m)\u001b[49m\n\u001b[0;32m      2\u001b[0m pagination_buttons \u001b[38;5;241m=\u001b[39m pagination\u001b[38;5;241m.\u001b[39mfind_elements(By\u001b[38;5;241m.\u001b[39mXPATH, \u001b[38;5;124m'\u001b[39m\u001b[38;5;124m.//button\u001b[39m\u001b[38;5;124m'\u001b[39m)\n\u001b[0;32m      3\u001b[0m \u001b[38;5;66;03m# pagination_buttons[1].click()\u001b[39;00m\n",
      "File \u001b[1;32mc:\\Users\\balde\\Desktop\\Jobs-Mystery\\.venv\\Lib\\site-packages\\selenium\\webdriver\\remote\\webdriver.py:770\u001b[0m, in \u001b[0;36mWebDriver.find_element\u001b[1;34m(self, by, value)\u001b[0m\n\u001b[0;32m    767\u001b[0m         \u001b[38;5;28;01mraise\u001b[39;00m NoSuchElementException(\u001b[38;5;124mf\u001b[39m\u001b[38;5;124m\"\u001b[39m\u001b[38;5;124mCannot locate relative element with: \u001b[39m\u001b[38;5;132;01m{\u001b[39;00mby\u001b[38;5;241m.\u001b[39mroot\u001b[38;5;132;01m}\u001b[39;00m\u001b[38;5;124m\"\u001b[39m)\n\u001b[0;32m    768\u001b[0m     \u001b[38;5;28;01mreturn\u001b[39;00m elements[\u001b[38;5;241m0\u001b[39m]\n\u001b[1;32m--> 770\u001b[0m \u001b[38;5;28;01mreturn\u001b[39;00m \u001b[38;5;28;43mself\u001b[39;49m\u001b[38;5;241;43m.\u001b[39;49m\u001b[43mexecute\u001b[49m\u001b[43m(\u001b[49m\u001b[43mCommand\u001b[49m\u001b[38;5;241;43m.\u001b[39;49m\u001b[43mFIND_ELEMENT\u001b[49m\u001b[43m,\u001b[49m\u001b[43m \u001b[49m\u001b[43m{\u001b[49m\u001b[38;5;124;43m\"\u001b[39;49m\u001b[38;5;124;43musing\u001b[39;49m\u001b[38;5;124;43m\"\u001b[39;49m\u001b[43m:\u001b[49m\u001b[43m \u001b[49m\u001b[43mby\u001b[49m\u001b[43m,\u001b[49m\u001b[43m \u001b[49m\u001b[38;5;124;43m\"\u001b[39;49m\u001b[38;5;124;43mvalue\u001b[39;49m\u001b[38;5;124;43m\"\u001b[39;49m\u001b[43m:\u001b[49m\u001b[43m \u001b[49m\u001b[43mvalue\u001b[49m\u001b[43m}\u001b[49m\u001b[43m)\u001b[49m[\u001b[38;5;124m\"\u001b[39m\u001b[38;5;124mvalue\u001b[39m\u001b[38;5;124m\"\u001b[39m]\n",
      "File \u001b[1;32mc:\\Users\\balde\\Desktop\\Jobs-Mystery\\.venv\\Lib\\site-packages\\selenium\\webdriver\\remote\\webdriver.py:384\u001b[0m, in \u001b[0;36mWebDriver.execute\u001b[1;34m(self, driver_command, params)\u001b[0m\n\u001b[0;32m    382\u001b[0m response \u001b[38;5;241m=\u001b[39m \u001b[38;5;28mself\u001b[39m\u001b[38;5;241m.\u001b[39mcommand_executor\u001b[38;5;241m.\u001b[39mexecute(driver_command, params)\n\u001b[0;32m    383\u001b[0m \u001b[38;5;28;01mif\u001b[39;00m response:\n\u001b[1;32m--> 384\u001b[0m     \u001b[38;5;28;43mself\u001b[39;49m\u001b[38;5;241;43m.\u001b[39;49m\u001b[43merror_handler\u001b[49m\u001b[38;5;241;43m.\u001b[39;49m\u001b[43mcheck_response\u001b[49m\u001b[43m(\u001b[49m\u001b[43mresponse\u001b[49m\u001b[43m)\u001b[49m\n\u001b[0;32m    385\u001b[0m     response[\u001b[38;5;124m\"\u001b[39m\u001b[38;5;124mvalue\u001b[39m\u001b[38;5;124m\"\u001b[39m] \u001b[38;5;241m=\u001b[39m \u001b[38;5;28mself\u001b[39m\u001b[38;5;241m.\u001b[39m_unwrap_value(response\u001b[38;5;241m.\u001b[39mget(\u001b[38;5;124m\"\u001b[39m\u001b[38;5;124mvalue\u001b[39m\u001b[38;5;124m\"\u001b[39m, \u001b[38;5;28;01mNone\u001b[39;00m))\n\u001b[0;32m    386\u001b[0m     \u001b[38;5;28;01mreturn\u001b[39;00m response\n",
      "File \u001b[1;32mc:\\Users\\balde\\Desktop\\Jobs-Mystery\\.venv\\Lib\\site-packages\\selenium\\webdriver\\remote\\errorhandler.py:232\u001b[0m, in \u001b[0;36mErrorHandler.check_response\u001b[1;34m(self, response)\u001b[0m\n\u001b[0;32m    230\u001b[0m         alert_text \u001b[38;5;241m=\u001b[39m value[\u001b[38;5;124m\"\u001b[39m\u001b[38;5;124malert\u001b[39m\u001b[38;5;124m\"\u001b[39m]\u001b[38;5;241m.\u001b[39mget(\u001b[38;5;124m\"\u001b[39m\u001b[38;5;124mtext\u001b[39m\u001b[38;5;124m\"\u001b[39m)\n\u001b[0;32m    231\u001b[0m     \u001b[38;5;28;01mraise\u001b[39;00m exception_class(message, screen, stacktrace, alert_text)  \u001b[38;5;66;03m# type: ignore[call-arg]  # mypy is not smart enough here\u001b[39;00m\n\u001b[1;32m--> 232\u001b[0m \u001b[38;5;28;01mraise\u001b[39;00m exception_class(message, screen, stacktrace)\n",
      "\u001b[1;31mNoSuchElementException\u001b[0m: Message: no such element: Unable to locate element: {\"method\":\"css selector\",\"selector\":\".artdeco-pagination__pages\"}\n  (Session info: chrome=131.0.6778.265); For documentation on this error, please visit: https://www.selenium.dev/documentation/webdriver/troubleshooting/errors#no-such-element-exception\nStacktrace:\n\tGetHandleVerifier [0x00007FF6A5D380D5+2992373]\n\t(No symbol) [0x00007FF6A59CBFD0]\n\t(No symbol) [0x00007FF6A586590A]\n\t(No symbol) [0x00007FF6A58B926E]\n\t(No symbol) [0x00007FF6A58B955C]\n\t(No symbol) [0x00007FF6A59027D7]\n\t(No symbol) [0x00007FF6A58DF3AF]\n\t(No symbol) [0x00007FF6A58FF584]\n\t(No symbol) [0x00007FF6A58DF113]\n\t(No symbol) [0x00007FF6A58AA918]\n\t(No symbol) [0x00007FF6A58ABA81]\n\tGetHandleVerifier [0x00007FF6A5D96A2D+3379789]\n\tGetHandleVerifier [0x00007FF6A5DAC32D+3468109]\n\tGetHandleVerifier [0x00007FF6A5DA0043+3418211]\n\tGetHandleVerifier [0x00007FF6A5B2C78B+847787]\n\t(No symbol) [0x00007FF6A59D757F]\n\t(No symbol) [0x00007FF6A59D2FC4]\n\t(No symbol) [0x00007FF6A59D315D]\n\t(No symbol) [0x00007FF6A59C2979]\n\tBaseThreadInitThunk [0x00007FF9B0F7259D+29]\n\tRtlUserThreadStart [0x00007FF9B30EAF38+40]\n"
     ]
    }
   ],
   "source": [
    "pagination = browser.find_element(By.CLASS_NAME, \"artdeco-pagination__pages\")\n",
    "pagination_buttons = pagination.find_elements(By.XPATH, './/button')\n",
    "# pagination_buttons[1].click()"
   ]
  },
  {
   "cell_type": "code",
   "execution_count": 35,
   "metadata": {},
   "outputs": [
    {
     "data": {
      "text/plain": [
       "[<selenium.webdriver.remote.webelement.WebElement (session=\"f0bbb0107fc03622f33c5d70b5baa7c5\", element=\"f.2A6B7D5833DF4549DA669C696B5F5F8F.d.5729E3E06B8A1296ADF7F95C0D79D7CD.e.347\")>,\n",
       " <selenium.webdriver.remote.webelement.WebElement (session=\"f0bbb0107fc03622f33c5d70b5baa7c5\", element=\"f.2A6B7D5833DF4549DA669C696B5F5F8F.d.5729E3E06B8A1296ADF7F95C0D79D7CD.e.348\")>,\n",
       " <selenium.webdriver.remote.webelement.WebElement (session=\"f0bbb0107fc03622f33c5d70b5baa7c5\", element=\"f.2A6B7D5833DF4549DA669C696B5F5F8F.d.5729E3E06B8A1296ADF7F95C0D79D7CD.e.349\")>,\n",
       " <selenium.webdriver.remote.webelement.WebElement (session=\"f0bbb0107fc03622f33c5d70b5baa7c5\", element=\"f.2A6B7D5833DF4549DA669C696B5F5F8F.d.5729E3E06B8A1296ADF7F95C0D79D7CD.e.350\")>,\n",
       " <selenium.webdriver.remote.webelement.WebElement (session=\"f0bbb0107fc03622f33c5d70b5baa7c5\", element=\"f.2A6B7D5833DF4549DA669C696B5F5F8F.d.5729E3E06B8A1296ADF7F95C0D79D7CD.e.351\")>,\n",
       " <selenium.webdriver.remote.webelement.WebElement (session=\"f0bbb0107fc03622f33c5d70b5baa7c5\", element=\"f.2A6B7D5833DF4549DA669C696B5F5F8F.d.5729E3E06B8A1296ADF7F95C0D79D7CD.e.352\")>,\n",
       " <selenium.webdriver.remote.webelement.WebElement (session=\"f0bbb0107fc03622f33c5d70b5baa7c5\", element=\"f.2A6B7D5833DF4549DA669C696B5F5F8F.d.5729E3E06B8A1296ADF7F95C0D79D7CD.e.353\")>,\n",
       " <selenium.webdriver.remote.webelement.WebElement (session=\"f0bbb0107fc03622f33c5d70b5baa7c5\", element=\"f.2A6B7D5833DF4549DA669C696B5F5F8F.d.5729E3E06B8A1296ADF7F95C0D79D7CD.e.354\")>,\n",
       " <selenium.webdriver.remote.webelement.WebElement (session=\"f0bbb0107fc03622f33c5d70b5baa7c5\", element=\"f.2A6B7D5833DF4549DA669C696B5F5F8F.d.5729E3E06B8A1296ADF7F95C0D79D7CD.e.355\")>,\n",
       " <selenium.webdriver.remote.webelement.WebElement (session=\"f0bbb0107fc03622f33c5d70b5baa7c5\", element=\"f.2A6B7D5833DF4549DA669C696B5F5F8F.d.5729E3E06B8A1296ADF7F95C0D79D7CD.e.356\")>]"
      ]
     },
     "execution_count": 35,
     "metadata": {},
     "output_type": "execute_result"
    }
   ],
   "source": [
    "pagination_buttons"
   ]
  },
  {
   "cell_type": "markdown",
   "metadata": {},
   "source": [
    "## To Navigate through the pages"
   ]
  },
  {
   "cell_type": "markdown",
   "metadata": {},
   "source": [
    "## Get the Jobs Info"
   ]
  },
  {
   "cell_type": "code",
   "execution_count": 20,
   "metadata": {
    "collapsed": false,
    "jupyter": {
     "outputs_hidden": false
    }
   },
   "outputs": [],
   "source": [
    "def get_job_skills():\n",
    "\n",
    "    # click display skills popup\n",
    "    wait_till_element_ready(By.CLASS_NAME, 'jobs-unified-top-card__job-insight-text-button')\n",
    "    # time.sleep(delay)\n",
    "    view_skills_button = browser.find_element(By.CLASS_NAME, 'jobs-unified-top-card__job-insight-text-button')\n",
    "    view_skills_button.click()\n",
    "\n",
    "    # get skills list\n",
    "    wait_till_element_ready(By.CLASS_NAME, \"job-details-skill-match-status-list\")\n",
    "    # time.sleep(delay)\n",
    "    skills_list = browser.find_element(By.CLASS_NAME, 'job-details-skill-match-status-list')\n",
    "\n",
    "    # get clean skills list\n",
    "    skills_list_clean = skills_list.text.split('\\n')\n",
    "    skills_list_clean = list(filter(lambda skill: skill != 'Add', skills_list_clean))\n",
    "\n",
    "    # close the skills list popup\n",
    "    wait_till_element_ready(By.CLASS_NAME, 'artdeco-modal__dismiss')\n",
    "    # time.sleep(delay)\n",
    "    close_popup_button = browser.find_element(By.CLASS_NAME, 'artdeco-modal__dismiss')\n",
    "    close_popup_button.click()\n",
    "\n",
    "    return skills_list_clean\n"
   ]
  },
  {
   "cell_type": "code",
   "execution_count": 50,
   "metadata": {
    "collapsed": false,
    "jupyter": {
     "outputs_hidden": false
    }
   },
   "outputs": [],
   "source": [
    "# Get the results of the first page\n",
    "# wait_till_element_ready(By.CLASS_NAME, \"jobs-search-results__list-item\")\n",
    "# time.sleep(delay)\n",
    "# jobs_list = browser.find_elements(By.CLASS_NAME, \"jobs-search-results__list-item\")\n",
    "# jobs_list = browser.find_elements(By.CLASS_NAME, \"job-card-container\")\n",
    "\n",
    "jobs = []\n",
    "for job in jobs_list:\n",
    "\n",
    "    time.sleep(delay)\n",
    "    # scroll the job div into view\n",
    "    browser.execute_script(\"arguments[0].scrollIntoView();\", job)\n",
    "    job.click()\n",
    "    # time.sleep(delay)\n",
    "\n",
    "    # get the position company, location, and remote/on-site\n",
    "    try:\n",
    "        [position, company, location, work_mode] = job.text.split('\\n')[:4]\n",
    "        break\n",
    "    except ValueError:\n",
    "        position = job.text.split('\\n')\n",
    "        [company, location, work_mode] = ''\n",
    "        print('job.text.split Error', job.text.split('\\n'))\n",
    "\n",
    "    # get skills list for the job\n",
    "    skills = get_job_skills()\n",
    "\n",
    "    # description\n",
    "    description = browser.find_elements(By.CLASS_NAME, \"jobs-description-content__text\")\n",
    "\n",
    "    # all the details\n",
    "    # details = driver.find_element(By.ID, \"job-details\").text\n",
    "\n",
    "    # do what you want with that info...\n",
    "    jobs.append([position, company, location, work_mode, skills, description])"
   ]
  },
  {
   "cell_type": "markdown",
   "metadata": {},
   "source": [
    "Profile - Profil recherché - About You\n",
    "Skills - Requirements - Position Requirements - Qualifications - Basic Qualifications - Expérience - Éxigences - Compétences - QUALITÉS\n",
    "Atouts - Preferred Qualifications - Autres exigences"
   ]
  },
  {
   "cell_type": "code",
   "execution_count": 51,
   "metadata": {},
   "outputs": [
    {
     "data": {
      "text/plain": [
       "[]"
      ]
     },
     "execution_count": 51,
     "metadata": {},
     "output_type": "execute_result"
    }
   ],
   "source": [
    "jobs"
   ]
  },
  {
   "cell_type": "code",
   "execution_count": 67,
   "metadata": {},
   "outputs": [
    {
     "name": "stdout",
     "output_type": "stream",
     "text": [
      "Location: Quebec, Canada\n",
      "Work Mode: Hybrid\n"
     ]
    }
   ],
   "source": [
    "[position, _, company, location_and_work_mode] = job.text.split('\\n')[:4]\n",
    "position, company, location_and_work_mode\n",
    "\n",
    "import re\n",
    "\n",
    "def extract_location_and_mode(input_string):\n",
    "    # Define the regex pattern to match location and work mode\n",
    "    pattern = r'([a-zA-Z\\s,]+)\\s\\((\\w+)\\)'\n",
    "    \n",
    "    # Use re.search to find the match\n",
    "    match = re.search(pattern, input_string)\n",
    "    \n",
    "    if match:\n",
    "        location = match.group(1).strip()\n",
    "        work_mode = match.group(2).strip()\n",
    "        return location, work_mode\n",
    "    else:\n",
    "        return None, None\n",
    "\n",
    "# Test with a sample string\n",
    "input_string = 'Quebec, Canada (Hybrid)'\n",
    "location, work_mode = extract_location_and_mode(input_string)\n",
    "\n",
    "print(f\"Location: {location}\")\n",
    "print(f\"Work Mode: {work_mode}\")\n"
   ]
  },
  {
   "cell_type": "code",
   "execution_count": 66,
   "metadata": {},
   "outputs": [
    {
     "data": {
      "text/plain": [
       "['Forward Deployed Engineer (AI Gameplay Engineer)',\n",
       " 'Forward Deployed Engineer (AI Gameplay Engineer) with verification',\n",
       " 'Inworld AI',\n",
       " 'British Columbia, Canada (Remote)',\n",
       " 'Promoted',\n",
       " 'Easy Apply']"
      ]
     },
     "execution_count": 66,
     "metadata": {},
     "output_type": "execute_result"
    }
   ],
   "source": [
    "jobs_list[2].text.split('\\n')"
   ]
  },
  {
   "cell_type": "code",
   "execution_count": 46,
   "metadata": {},
   "outputs": [],
   "source": [
    "# jobs_list[0].\n",
    "# jobs_list = browser.find_elements(By.CLASS_NAME, \"job-card-container\")\n",
    "# jobs_list\n",
    "# Scroll the job div into view to ensure it is clickable\n",
    "# browser.execute_script(\"arguments[0].scrollIntoView();\", job)\n",
    "# time.sleep(delay)\n",
    "job.click()"
   ]
  },
  {
   "cell_type": "code",
   "execution_count": 52,
   "metadata": {},
   "outputs": [
    {
     "data": {
      "text/plain": [
       "['Scientifique de données',\n",
       " 'Scientifique de données with verification',\n",
       " 'Bombardier',\n",
       " 'Dorval, QC (Hybrid)']"
      ]
     },
     "execution_count": 52,
     "metadata": {},
     "output_type": "execute_result"
    }
   ],
   "source": [
    "job.text.split('\\n')[:4]"
   ]
  },
  {
   "cell_type": "code",
   "execution_count": 69,
   "metadata": {},
   "outputs": [
    {
     "ename": "WebDriverException",
     "evalue": "Message: disconnected: not connected to DevTools\n  (failed to check if window was closed: disconnected: not connected to DevTools)\n  (Session info: chrome=131.0.6778.205)\nStacktrace:\n\tGetHandleVerifier [0x00007FF733BBFB05+28789]\n\t(No symbol) [0x00007FF733B286E0]\n\t(No symbol) [0x00007FF7339C592A]\n\t(No symbol) [0x00007FF7339B230C]\n\t(No symbol) [0x00007FF7339B21D0]\n\t(No symbol) [0x00007FF7339C82D1]\n\t(No symbol) [0x00007FF733A5EF72]\n\t(No symbol) [0x00007FF733A3F1E3]\n\t(No symbol) [0x00007FF733A0A938]\n\t(No symbol) [0x00007FF733A0BAA1]\n\tGetHandleVerifier [0x00007FF733EF933D+3410093]\n\tGetHandleVerifier [0x00007FF733F0E7DD+3497293]\n\tGetHandleVerifier [0x00007FF733F02A73+3448803]\n\tGetHandleVerifier [0x00007FF733C87BBB+848171]\n\t(No symbol) [0x00007FF733B33C3F]\n\t(No symbol) [0x00007FF733B2F6E4]\n\t(No symbol) [0x00007FF733B2F87D]\n\t(No symbol) [0x00007FF733B1ED49]\n\tBaseThreadInitThunk [0x00007FF97C6B259D+29]\n\tRtlUserThreadStart [0x00007FF97E44AF38+40]\n",
     "output_type": "error",
     "traceback": [
      "\u001b[1;31m---------------------------------------------------------------------------\u001b[0m",
      "\u001b[1;31mWebDriverException\u001b[0m                        Traceback (most recent call last)",
      "Cell \u001b[1;32mIn[69], line 1\u001b[0m\n\u001b[1;32m----> 1\u001b[0m \u001b[43mjob\u001b[49m\u001b[38;5;241;43m.\u001b[39;49m\u001b[43mtext\u001b[49m\u001b[38;5;241m.\u001b[39msplit(\u001b[38;5;124m'\u001b[39m\u001b[38;5;130;01m\\n\u001b[39;00m\u001b[38;5;124m'\u001b[39m)\n",
      "File \u001b[1;32mc:\\Users\\balde\\Desktop\\Jobs-Mystery\\.venv\\Lib\\site-packages\\selenium\\webdriver\\remote\\webelement.py:90\u001b[0m, in \u001b[0;36mWebElement.text\u001b[1;34m(self)\u001b[0m\n\u001b[0;32m     87\u001b[0m \u001b[38;5;129m@property\u001b[39m\n\u001b[0;32m     88\u001b[0m \u001b[38;5;28;01mdef\u001b[39;00m \u001b[38;5;21mtext\u001b[39m(\u001b[38;5;28mself\u001b[39m) \u001b[38;5;241m-\u001b[39m\u001b[38;5;241m>\u001b[39m \u001b[38;5;28mstr\u001b[39m:\n\u001b[0;32m     89\u001b[0m \u001b[38;5;250m    \u001b[39m\u001b[38;5;124;03m\"\"\"The text of the element.\"\"\"\u001b[39;00m\n\u001b[1;32m---> 90\u001b[0m     \u001b[38;5;28;01mreturn\u001b[39;00m \u001b[38;5;28;43mself\u001b[39;49m\u001b[38;5;241;43m.\u001b[39;49m\u001b[43m_execute\u001b[49m\u001b[43m(\u001b[49m\u001b[43mCommand\u001b[49m\u001b[38;5;241;43m.\u001b[39;49m\u001b[43mGET_ELEMENT_TEXT\u001b[49m\u001b[43m)\u001b[49m[\u001b[38;5;124m\"\u001b[39m\u001b[38;5;124mvalue\u001b[39m\u001b[38;5;124m\"\u001b[39m]\n",
      "File \u001b[1;32mc:\\Users\\balde\\Desktop\\Jobs-Mystery\\.venv\\Lib\\site-packages\\selenium\\webdriver\\remote\\webelement.py:395\u001b[0m, in \u001b[0;36mWebElement._execute\u001b[1;34m(self, command, params)\u001b[0m\n\u001b[0;32m    393\u001b[0m     params \u001b[38;5;241m=\u001b[39m {}\n\u001b[0;32m    394\u001b[0m params[\u001b[38;5;124m\"\u001b[39m\u001b[38;5;124mid\u001b[39m\u001b[38;5;124m\"\u001b[39m] \u001b[38;5;241m=\u001b[39m \u001b[38;5;28mself\u001b[39m\u001b[38;5;241m.\u001b[39m_id\n\u001b[1;32m--> 395\u001b[0m \u001b[38;5;28;01mreturn\u001b[39;00m \u001b[38;5;28;43mself\u001b[39;49m\u001b[38;5;241;43m.\u001b[39;49m\u001b[43m_parent\u001b[49m\u001b[38;5;241;43m.\u001b[39;49m\u001b[43mexecute\u001b[49m\u001b[43m(\u001b[49m\u001b[43mcommand\u001b[49m\u001b[43m,\u001b[49m\u001b[43m \u001b[49m\u001b[43mparams\u001b[49m\u001b[43m)\u001b[49m\n",
      "File \u001b[1;32mc:\\Users\\balde\\Desktop\\Jobs-Mystery\\.venv\\Lib\\site-packages\\selenium\\webdriver\\remote\\webdriver.py:384\u001b[0m, in \u001b[0;36mWebDriver.execute\u001b[1;34m(self, driver_command, params)\u001b[0m\n\u001b[0;32m    382\u001b[0m response \u001b[38;5;241m=\u001b[39m \u001b[38;5;28mself\u001b[39m\u001b[38;5;241m.\u001b[39mcommand_executor\u001b[38;5;241m.\u001b[39mexecute(driver_command, params)\n\u001b[0;32m    383\u001b[0m \u001b[38;5;28;01mif\u001b[39;00m response:\n\u001b[1;32m--> 384\u001b[0m     \u001b[38;5;28;43mself\u001b[39;49m\u001b[38;5;241;43m.\u001b[39;49m\u001b[43merror_handler\u001b[49m\u001b[38;5;241;43m.\u001b[39;49m\u001b[43mcheck_response\u001b[49m\u001b[43m(\u001b[49m\u001b[43mresponse\u001b[49m\u001b[43m)\u001b[49m\n\u001b[0;32m    385\u001b[0m     response[\u001b[38;5;124m\"\u001b[39m\u001b[38;5;124mvalue\u001b[39m\u001b[38;5;124m\"\u001b[39m] \u001b[38;5;241m=\u001b[39m \u001b[38;5;28mself\u001b[39m\u001b[38;5;241m.\u001b[39m_unwrap_value(response\u001b[38;5;241m.\u001b[39mget(\u001b[38;5;124m\"\u001b[39m\u001b[38;5;124mvalue\u001b[39m\u001b[38;5;124m\"\u001b[39m, \u001b[38;5;28;01mNone\u001b[39;00m))\n\u001b[0;32m    386\u001b[0m     \u001b[38;5;28;01mreturn\u001b[39;00m response\n",
      "File \u001b[1;32mc:\\Users\\balde\\Desktop\\Jobs-Mystery\\.venv\\Lib\\site-packages\\selenium\\webdriver\\remote\\errorhandler.py:232\u001b[0m, in \u001b[0;36mErrorHandler.check_response\u001b[1;34m(self, response)\u001b[0m\n\u001b[0;32m    230\u001b[0m         alert_text \u001b[38;5;241m=\u001b[39m value[\u001b[38;5;124m\"\u001b[39m\u001b[38;5;124malert\u001b[39m\u001b[38;5;124m\"\u001b[39m]\u001b[38;5;241m.\u001b[39mget(\u001b[38;5;124m\"\u001b[39m\u001b[38;5;124mtext\u001b[39m\u001b[38;5;124m\"\u001b[39m)\n\u001b[0;32m    231\u001b[0m     \u001b[38;5;28;01mraise\u001b[39;00m exception_class(message, screen, stacktrace, alert_text)  \u001b[38;5;66;03m# type: ignore[call-arg]  # mypy is not smart enough here\u001b[39;00m\n\u001b[1;32m--> 232\u001b[0m \u001b[38;5;28;01mraise\u001b[39;00m exception_class(message, screen, stacktrace)\n",
      "\u001b[1;31mWebDriverException\u001b[0m: Message: disconnected: not connected to DevTools\n  (failed to check if window was closed: disconnected: not connected to DevTools)\n  (Session info: chrome=131.0.6778.205)\nStacktrace:\n\tGetHandleVerifier [0x00007FF733BBFB05+28789]\n\t(No symbol) [0x00007FF733B286E0]\n\t(No symbol) [0x00007FF7339C592A]\n\t(No symbol) [0x00007FF7339B230C]\n\t(No symbol) [0x00007FF7339B21D0]\n\t(No symbol) [0x00007FF7339C82D1]\n\t(No symbol) [0x00007FF733A5EF72]\n\t(No symbol) [0x00007FF733A3F1E3]\n\t(No symbol) [0x00007FF733A0A938]\n\t(No symbol) [0x00007FF733A0BAA1]\n\tGetHandleVerifier [0x00007FF733EF933D+3410093]\n\tGetHandleVerifier [0x00007FF733F0E7DD+3497293]\n\tGetHandleVerifier [0x00007FF733F02A73+3448803]\n\tGetHandleVerifier [0x00007FF733C87BBB+848171]\n\t(No symbol) [0x00007FF733B33C3F]\n\t(No symbol) [0x00007FF733B2F6E4]\n\t(No symbol) [0x00007FF733B2F87D]\n\t(No symbol) [0x00007FF733B1ED49]\n\tBaseThreadInitThunk [0x00007FF97C6B259D+29]\n\tRtlUserThreadStart [0x00007FF97E44AF38+40]\n"
     ]
    }
   ],
   "source": [
    "job.text.split('\\n')"
   ]
  },
  {
   "cell_type": "code",
   "execution_count": 68,
   "metadata": {
    "collapsed": false,
    "jupyter": {
     "outputs_hidden": false
    }
   },
   "outputs": [
    {
     "ename": "IndexError",
     "evalue": "list index out of range",
     "output_type": "error",
     "traceback": [
      "\u001b[1;31m---------------------------------------------------------------------------\u001b[0m",
      "\u001b[1;31mIndexError\u001b[0m                                Traceback (most recent call last)",
      "Cell \u001b[1;32mIn[68], line 1\u001b[0m\n\u001b[1;32m----> 1\u001b[0m \u001b[43mjobs\u001b[49m\u001b[43m[\u001b[49m\u001b[38;5;241;43m0\u001b[39;49m\u001b[43m]\u001b[49m[\u001b[38;5;241m4\u001b[39m]\n",
      "\u001b[1;31mIndexError\u001b[0m: list index out of range"
     ]
    }
   ],
   "source": [
    "jobs[0][4]"
   ]
  },
  {
   "cell_type": "markdown",
   "metadata": {},
   "source": [
    "# Connect to SQL Server"
   ]
  },
  {
   "cell_type": "code",
   "execution_count": null,
   "metadata": {
    "collapsed": false,
    "jupyter": {
     "outputs_hidden": false
    }
   },
   "outputs": [],
   "source": [
    "# !pip install pypyodbc"
   ]
  },
  {
   "cell_type": "code",
   "execution_count": null,
   "metadata": {
    "collapsed": false,
    "jupyter": {
     "outputs_hidden": false
    }
   },
   "outputs": [
    {
     "name": "stdout",
     "output_type": "stream",
     "text": [
      "<pypyodbc.Connection object at 0x0000025D5ECF39A0>\n"
     ]
    }
   ],
   "source": [
    "import pypyodbc as odbc\n",
    "\n",
    "DRIVER_NAME = 'SQL Server'\n",
    "SERVER_NAME = '.'\n",
    "DATABASE_NAME = 'LinkedIn'\n",
    "\n",
    "connection_string = f\"\"\"\n",
    "    DRIVER={{{DRIVER_NAME}}};\n",
    "    SERVER={{{SERVER_NAME}}};\n",
    "    DATABASE={{{DATABASE_NAME}}};\n",
    "    Trust_Connection=yes;\n",
    "\"\"\"\n",
    "\n",
    "conn = odbc.connect(connectString=connection_string)\n",
    "print(conn)"
   ]
  },
  {
   "cell_type": "markdown",
   "metadata": {},
   "source": [
    "### Fetch jobs"
   ]
  },
  {
   "cell_type": "code",
   "execution_count": null,
   "metadata": {
    "collapsed": false,
    "jupyter": {
     "outputs_hidden": false
    }
   },
   "outputs": [],
   "source": [
    "# # Execute a sample query\n",
    "# cursor.execute('SELECT * FROM your_table_name')\n",
    "# # Fetch the results of the query\n",
    "# rows = cursor.fetchall()\n",
    "# # Print the results\n",
    "# for row in rows:\n",
    "#     print(row)"
   ]
  },
  {
   "cell_type": "markdown",
   "metadata": {},
   "source": [
    "### Insert jobs into the database"
   ]
  },
  {
   "cell_type": "code",
   "execution_count": null,
   "metadata": {
    "collapsed": false,
    "jupyter": {
     "outputs_hidden": false
    }
   },
   "outputs": [],
   "source": [
    "def save_jobs(jobs):\n",
    "    \"\"\"\n",
    "    Inserts the jobs into the databse\n",
    "\n",
    "    :param jobs: jobs to be inserted\n",
    "    :return:\n",
    "    \"\"\"\n",
    "    insert_query = \"INSERT INTO Jobs (position, company, location, work_mode, skills, details) VALUES (?, ?, ?, ?, ?, ?)\"\n",
    "\n",
    "    for job in jobs:\n",
    "        position = job[0]\n",
    "        company = job[1]\n",
    "        location = job[2]\n",
    "        work_mode = job[3]\n",
    "        skills = job[4]\n",
    "        details = job[5]\n",
    "\n",
    "        # transofrm skills array to string\n",
    "        skills_str = ','.join(skills)\n",
    "\n",
    "        # Define values to be inserted\n",
    "        values = (position, company, location, work_mode, skills_str, details)\n",
    "\n",
    "        # Execute insert statement\n",
    "        cursor.execute(insert_query, values)\n",
    "\n",
    "        # Commit changes to the database\n",
    "        conn.commit()"
   ]
  },
  {
   "cell_type": "code",
   "execution_count": null,
   "metadata": {
    "collapsed": false,
    "jupyter": {
     "outputs_hidden": false
    }
   },
   "outputs": [],
   "source": [
    "# Open Connexion\n",
    "cursor = conn.cursor()\n",
    "\n",
    "# save jobs\n",
    "save_jobs(jobs)"
   ]
  },
  {
   "cell_type": "markdown",
   "metadata": {},
   "source": [
    "### Close Connection"
   ]
  },
  {
   "cell_type": "code",
   "execution_count": null,
   "metadata": {
    "collapsed": false,
    "jupyter": {
     "outputs_hidden": false
    }
   },
   "outputs": [],
   "source": [
    "# Close the cursor and connection\n",
    "cursor.close()\n",
    "conn.close()"
   ]
  }
 ],
 "metadata": {
  "kernelspec": {
   "display_name": ".venv",
   "language": "python",
   "name": "python3"
  },
  "language_info": {
   "codemirror_mode": {
    "name": "ipython",
    "version": 3
   },
   "file_extension": ".py",
   "mimetype": "text/x-python",
   "name": "python",
   "nbconvert_exporter": "python",
   "pygments_lexer": "ipython3",
   "version": "3.12.2"
  }
 },
 "nbformat": 4,
 "nbformat_minor": 4
}
